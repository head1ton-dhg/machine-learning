{
 "cells": [
  {
   "cell_type": "markdown",
   "metadata": {},
   "source": [
    "# Machine Learning Engineer Nanodegree\n",
    "## Supervised Learning\n",
    "## Project: Customer Churn\n",
    "\n",
    "Telecoms company spend a lot on acquiring new customers, the telecoms market is highly competitive at the same time customers are not exactly satisfied with the service provided by most of the telecoms company. Thus, customers leave service providers, when customers leave their current service provider and move to the next this is called churn. \n",
    "\n",
    "\n",
    "The problem is simply being to predict the customers that are most likely to leave their current service providers. Classifying customers that will churn based on spending and level of consumption of certain services by the provider using a classification model, would help telecoms prepare and prevent customers from leaving.   \n",
    "Furthermore,  this is a binary classification problem because it involves categorising the customers in the datasets and future customers, that would churn or won’t churn.\n",
    "\n",
    "\n",
    "More About The Project Is On Kaggle:  https://www.kaggle.com/c/dsntelecomschurn2018"
   ]
  },
  {
   "cell_type": "markdown",
   "metadata": {},
   "source": [
    "## Gettting Started\n",
    "\n",
    "\n",
    "In this project I will be using supervised learning techniques to construct a model that would accurate predict the customers that are going to leave their current service provider for another."
   ]
  },
  {
   "cell_type": "code",
   "execution_count": 2,
   "metadata": {
    "collapsed": false
   },
   "outputs": [
    {
     "name": "stderr",
     "output_type": "stream",
     "text": [
      "/anaconda/envs/gl-env/lib/python2.7/site-packages/sklearn/cross_validation.py:41: DeprecationWarning: This module was deprecated in version 0.18 in favor of the model_selection module into which all the refactored classes and functions are moved. Also note that the interface of the new CV iterators are different from that of this module. This module will be removed in 0.20.\n",
      "  \"This module will be removed in 0.20.\", DeprecationWarning)\n"
     ]
    }
   ],
   "source": [
    "# Importing the basic modules\n",
    "import numpy as np\n",
    "import pandas as pd\n",
    "import matplotlib.pyplot as plt\n",
    "import math\n",
    "import random\n",
    "from time import time\n",
    "from sklearn.preprocessing import LabelEncoder\n",
    "from sklearn.cross_validation import train_test_split\n",
    "from sklearn.tree import DecisionTreeClassifier\n",
    "from sklearn.svm import SVC\n",
    "from sklearn.ensemble import RandomForestClassifier\n",
    "from sklearn.metrics import fbeta_score, accuracy_score\n",
    "from sklearn.linear_model import LogisticRegression\n",
    "from xgboost import XGBClassifier\n",
    "import seaborn as sns\n",
    "\n",
    "%matplotlib inline"
   ]
  },
  {
   "cell_type": "code",
   "execution_count": 3,
   "metadata": {
    "collapsed": false
   },
   "outputs": [],
   "source": [
    "# Loading the training data\n",
    "df = pd.read_csv('./TRAIN.csv')"
   ]
  },
  {
   "cell_type": "markdown",
   "metadata": {},
   "source": [
    "## Exploring The Data\n",
    "\n",
    "Exploring the data set involves visualizing relationships between the features of customers that churned and customers that didn't churn, correlation between the features and cleaning the data."
   ]
  },
  {
   "cell_type": "code",
   "execution_count": 4,
   "metadata": {
    "collapsed": false
   },
   "outputs": [
    {
     "data": {
      "text/html": [
       "<div>\n",
       "<style scoped>\n",
       "    .dataframe tbody tr th:only-of-type {\n",
       "        vertical-align: middle;\n",
       "    }\n",
       "\n",
       "    .dataframe tbody tr th {\n",
       "        vertical-align: top;\n",
       "    }\n",
       "\n",
       "    .dataframe thead th {\n",
       "        text-align: right;\n",
       "    }\n",
       "</style>\n",
       "<table border=\"1\" class=\"dataframe\">\n",
       "  <thead>\n",
       "    <tr style=\"text-align: right;\">\n",
       "      <th></th>\n",
       "      <th>Customer ID</th>\n",
       "      <th>network_age</th>\n",
       "      <th>Customer tenure in month</th>\n",
       "      <th>Total Spend in Months 1 and 2 of 2017</th>\n",
       "      <th>Total SMS Spend</th>\n",
       "      <th>Total Data Spend</th>\n",
       "      <th>Total Data Consumption</th>\n",
       "      <th>Total Unique Calls</th>\n",
       "      <th>Total Onnet spend</th>\n",
       "      <th>Total Offnet spend</th>\n",
       "      <th>Total Call centre complaint calls</th>\n",
       "      <th>Network type subscription in Month 1</th>\n",
       "      <th>Network type subscription in Month 2</th>\n",
       "      <th>Most Loved Competitor network in in Month 1</th>\n",
       "      <th>Most Loved Competitor network in in Month 2</th>\n",
       "      <th>Churn Status</th>\n",
       "    </tr>\n",
       "  </thead>\n",
       "  <tbody>\n",
       "    <tr>\n",
       "      <th>0</th>\n",
       "      <td>ADF0039</td>\n",
       "      <td>123.0</td>\n",
       "      <td>4.1</td>\n",
       "      <td>76.714</td>\n",
       "      <td>0.0</td>\n",
       "      <td>1.25</td>\n",
       "      <td>1.4951</td>\n",
       "      <td>14.0</td>\n",
       "      <td>564.0</td>\n",
       "      <td>6408.0</td>\n",
       "      <td>2.0</td>\n",
       "      <td>2G</td>\n",
       "      <td>2G</td>\n",
       "      <td>Uxaa</td>\n",
       "      <td>Mango</td>\n",
       "      <td>0.0</td>\n",
       "    </tr>\n",
       "  </tbody>\n",
       "</table>\n",
       "</div>"
      ],
      "text/plain": [
       "  Customer ID  network_age  Customer tenure in month  \\\n",
       "0     ADF0039        123.0                       4.1   \n",
       "\n",
       "   Total Spend in Months 1 and 2 of 2017  Total SMS Spend  Total Data Spend  \\\n",
       "0                                 76.714              0.0              1.25   \n",
       "\n",
       "   Total Data Consumption  Total Unique Calls  Total Onnet spend   \\\n",
       "0                  1.4951                14.0               564.0   \n",
       "\n",
       "   Total Offnet spend  Total Call centre complaint calls  \\\n",
       "0              6408.0                                2.0   \n",
       "\n",
       "  Network type subscription in Month 1 Network type subscription in Month 2  \\\n",
       "0                                   2G                                   2G   \n",
       "\n",
       "  Most Loved Competitor network in in Month 1  \\\n",
       "0                                        Uxaa   \n",
       "\n",
       "  Most Loved Competitor network in in Month 2  Churn Status  \n",
       "0                                       Mango           0.0  "
      ]
     },
     "execution_count": 4,
     "metadata": {},
     "output_type": "execute_result"
    }
   ],
   "source": [
    "# The first row in the data set \n",
    "df.head(n=1)"
   ]
  },
  {
   "cell_type": "markdown",
   "metadata": {},
   "source": [
    "### Features Exploration\n",
    "\n",
    "**- Total Spend in Months 1 and 2 of 2017:** The aggregate spending of a customer in the months July and August 2017.\n",
    "\n",
    "\n",
    "**- Total SMS Spend:** The aggregate spending on SMS by a customer income earned through the SMS benefit utilized by the subscriber.\n",
    "\n",
    "\n",
    "**- Total Data Spend:** The aggregate amount spent on Data/Internet by a customer income earned through the SMS service used by the subscriber.\n",
    "\n",
    "\n",
    "**- Total Data Consumption:** The aggregate data consumed by a customer in KiloBytes during the period under study.\n",
    "\n",
    "\n",
    "**- Total Unique Calls:** The aggregate of unique calls made by a customer during the period under study.\n",
    "\n",
    "\n",
    "**- Total Onnet spend:** The aggregate spending of a customer to make on-network calls (on the same network as the subscriber).\n",
    "\n",
    "\n",
    "**- Total Offnet spend:** The aggregate spending of a customer on off-network calls (not the same network as the subscriber).\n",
    "\n",
    "\n",
    "**- Customer Tenure in Months:** The time passed since the subscriber started using the services of the network provider and counted in months.\n",
    "\n",
    "\n",
    "**- Network type subscription in Month 1:** The network type the customer is subscribed  to in the first month which maybe 2G or 3G service.\n",
    "\n",
    "\n",
    "**- Network type subscription in Month 2:** The network type the customer is subscribed  to in the second month which maybe 2G or 3G service.\n",
    "\n",
    "\n",
    "**- Total Call centre complaint calls:** Aggregate number of complaints made by the subscribers.\n",
    "\n",
    "\n",
    "**- Most Loved Competitor network in in Month 1:** The customers most preferred competitor network provider in the first month.\n",
    "\n",
    "\n",
    "**- Most Loved Competitor network in in Month 2:** The customers most preferred competitor network provider in the second month.\n",
    "\n",
    "**- Churn Status:** The churn status of a customer, 1 means the customer has churned and 0 means no churn."
   ]
  },
  {
   "cell_type": "code",
   "execution_count": 5,
   "metadata": {
    "collapsed": false,
    "scrolled": true
   },
   "outputs": [
    {
     "data": {
      "text/html": [
       "<div>\n",
       "<style scoped>\n",
       "    .dataframe tbody tr th:only-of-type {\n",
       "        vertical-align: middle;\n",
       "    }\n",
       "\n",
       "    .dataframe tbody tr th {\n",
       "        vertical-align: top;\n",
       "    }\n",
       "\n",
       "    .dataframe thead th {\n",
       "        text-align: right;\n",
       "    }\n",
       "</style>\n",
       "<table border=\"1\" class=\"dataframe\">\n",
       "  <thead>\n",
       "    <tr style=\"text-align: right;\">\n",
       "      <th></th>\n",
       "      <th>network_age</th>\n",
       "      <th>Customer tenure in month</th>\n",
       "      <th>Total Spend in Months 1 and 2 of 2017</th>\n",
       "      <th>Total SMS Spend</th>\n",
       "      <th>Total Data Spend</th>\n",
       "      <th>Total Data Consumption</th>\n",
       "      <th>Total Unique Calls</th>\n",
       "      <th>Total Onnet spend</th>\n",
       "      <th>Total Offnet spend</th>\n",
       "      <th>Total Call centre complaint calls</th>\n",
       "      <th>Churn Status</th>\n",
       "    </tr>\n",
       "  </thead>\n",
       "  <tbody>\n",
       "    <tr>\n",
       "      <th>count</th>\n",
       "      <td>1400.000000</td>\n",
       "      <td>1400.000000</td>\n",
       "      <td>1400.000000</td>\n",
       "      <td>1400.000000</td>\n",
       "      <td>1400.000000</td>\n",
       "      <td>1.400000e+03</td>\n",
       "      <td>1400.000000</td>\n",
       "      <td>1400.000000</td>\n",
       "      <td>1400.00000</td>\n",
       "      <td>1400.000000</td>\n",
       "      <td>1400.000000</td>\n",
       "    </tr>\n",
       "    <tr>\n",
       "      <th>mean</th>\n",
       "      <td>1450.634286</td>\n",
       "      <td>48.354479</td>\n",
       "      <td>805.641729</td>\n",
       "      <td>30.394286</td>\n",
       "      <td>58.482293</td>\n",
       "      <td>2.162307e+06</td>\n",
       "      <td>202.422143</td>\n",
       "      <td>6814.392143</td>\n",
       "      <td>15730.42000</td>\n",
       "      <td>1.922143</td>\n",
       "      <td>0.500000</td>\n",
       "    </tr>\n",
       "    <tr>\n",
       "      <th>std</th>\n",
       "      <td>1276.008188</td>\n",
       "      <td>42.533536</td>\n",
       "      <td>1251.742068</td>\n",
       "      <td>60.885095</td>\n",
       "      <td>289.613589</td>\n",
       "      <td>6.865958e+06</td>\n",
       "      <td>302.036220</td>\n",
       "      <td>16707.784943</td>\n",
       "      <td>37448.94212</td>\n",
       "      <td>2.345515</td>\n",
       "      <td>0.500179</td>\n",
       "    </tr>\n",
       "    <tr>\n",
       "      <th>min</th>\n",
       "      <td>-5.000000</td>\n",
       "      <td>-0.170000</td>\n",
       "      <td>4.910000</td>\n",
       "      <td>0.000000</td>\n",
       "      <td>0.000000</td>\n",
       "      <td>5.860000e-02</td>\n",
       "      <td>1.000000</td>\n",
       "      <td>0.000000</td>\n",
       "      <td>0.00000</td>\n",
       "      <td>1.000000</td>\n",
       "      <td>0.000000</td>\n",
       "    </tr>\n",
       "    <tr>\n",
       "      <th>25%</th>\n",
       "      <td>287.000000</td>\n",
       "      <td>9.567500</td>\n",
       "      <td>155.537500</td>\n",
       "      <td>2.620000</td>\n",
       "      <td>1.250000</td>\n",
       "      <td>1.384346e+03</td>\n",
       "      <td>18.000000</td>\n",
       "      <td>60.000000</td>\n",
       "      <td>1123.00000</td>\n",
       "      <td>1.000000</td>\n",
       "      <td>0.000000</td>\n",
       "    </tr>\n",
       "    <tr>\n",
       "      <th>50%</th>\n",
       "      <td>1171.000000</td>\n",
       "      <td>39.030000</td>\n",
       "      <td>606.575000</td>\n",
       "      <td>13.715000</td>\n",
       "      <td>11.250000</td>\n",
       "      <td>1.193487e+05</td>\n",
       "      <td>81.500000</td>\n",
       "      <td>1617.000000</td>\n",
       "      <td>4171.00000</td>\n",
       "      <td>1.000000</td>\n",
       "      <td>0.500000</td>\n",
       "    </tr>\n",
       "    <tr>\n",
       "      <th>75%</th>\n",
       "      <td>2242.000000</td>\n",
       "      <td>74.732500</td>\n",
       "      <td>1018.395500</td>\n",
       "      <td>31.205000</td>\n",
       "      <td>42.812500</td>\n",
       "      <td>1.206785e+06</td>\n",
       "      <td>254.250000</td>\n",
       "      <td>7177.750000</td>\n",
       "      <td>13151.50000</td>\n",
       "      <td>2.000000</td>\n",
       "      <td>1.000000</td>\n",
       "    </tr>\n",
       "    <tr>\n",
       "      <th>max</th>\n",
       "      <td>5451.000000</td>\n",
       "      <td>181.700000</td>\n",
       "      <td>24438.830000</td>\n",
       "      <td>873.980000</td>\n",
       "      <td>8295.000000</td>\n",
       "      <td>9.945640e+07</td>\n",
       "      <td>2596.000000</td>\n",
       "      <td>381174.000000</td>\n",
       "      <td>431440.00000</td>\n",
       "      <td>49.000000</td>\n",
       "      <td>1.000000</td>\n",
       "    </tr>\n",
       "  </tbody>\n",
       "</table>\n",
       "</div>"
      ],
      "text/plain": [
       "       network_age  Customer tenure in month  \\\n",
       "count  1400.000000               1400.000000   \n",
       "mean   1450.634286                 48.354479   \n",
       "std    1276.008188                 42.533536   \n",
       "min      -5.000000                 -0.170000   \n",
       "25%     287.000000                  9.567500   \n",
       "50%    1171.000000                 39.030000   \n",
       "75%    2242.000000                 74.732500   \n",
       "max    5451.000000                181.700000   \n",
       "\n",
       "       Total Spend in Months 1 and 2 of 2017  Total SMS Spend  \\\n",
       "count                            1400.000000      1400.000000   \n",
       "mean                              805.641729        30.394286   \n",
       "std                              1251.742068        60.885095   \n",
       "min                                 4.910000         0.000000   \n",
       "25%                               155.537500         2.620000   \n",
       "50%                               606.575000        13.715000   \n",
       "75%                              1018.395500        31.205000   \n",
       "max                             24438.830000       873.980000   \n",
       "\n",
       "       Total Data Spend  Total Data Consumption  Total Unique Calls  \\\n",
       "count       1400.000000            1.400000e+03         1400.000000   \n",
       "mean          58.482293            2.162307e+06          202.422143   \n",
       "std          289.613589            6.865958e+06          302.036220   \n",
       "min            0.000000            5.860000e-02            1.000000   \n",
       "25%            1.250000            1.384346e+03           18.000000   \n",
       "50%           11.250000            1.193487e+05           81.500000   \n",
       "75%           42.812500            1.206785e+06          254.250000   \n",
       "max         8295.000000            9.945640e+07         2596.000000   \n",
       "\n",
       "       Total Onnet spend   Total Offnet spend  \\\n",
       "count         1400.000000          1400.00000   \n",
       "mean          6814.392143         15730.42000   \n",
       "std          16707.784943         37448.94212   \n",
       "min              0.000000             0.00000   \n",
       "25%             60.000000          1123.00000   \n",
       "50%           1617.000000          4171.00000   \n",
       "75%           7177.750000         13151.50000   \n",
       "max         381174.000000        431440.00000   \n",
       "\n",
       "       Total Call centre complaint calls  Churn Status  \n",
       "count                        1400.000000   1400.000000  \n",
       "mean                            1.922143      0.500000  \n",
       "std                             2.345515      0.500179  \n",
       "min                             1.000000      0.000000  \n",
       "25%                             1.000000      0.000000  \n",
       "50%                             1.000000      0.500000  \n",
       "75%                             2.000000      1.000000  \n",
       "max                            49.000000      1.000000  "
      ]
     },
     "execution_count": 5,
     "metadata": {},
     "output_type": "execute_result"
    }
   ],
   "source": [
    "df.describe()"
   ]
  },
  {
   "cell_type": "code",
   "execution_count": 6,
   "metadata": {
    "collapsed": false
   },
   "outputs": [
    {
     "name": "stdout",
     "output_type": "stream",
     "text": [
      "Number of customers that churn 700\n"
     ]
    }
   ],
   "source": [
    "# Number of customers that churn\n",
    "churned_customers = df[df['Churn Status'] == 1]\n",
    "print \"Number of customers that churn {}\".format(len(churned_customers))"
   ]
  },
  {
   "cell_type": "code",
   "execution_count": 7,
   "metadata": {
    "collapsed": false
   },
   "outputs": [
    {
     "name": "stdout",
     "output_type": "stream",
     "text": [
      "Number of customers that didn't churn 701\n"
     ]
    }
   ],
   "source": [
    "# Number of customers that didn't churn\n",
    "un_churned_customers = df[df['Churn Status'] != 1]\n",
    "print \"Number of customers that didn't churn {}\".format(len(un_churned_customers))"
   ]
  },
  {
   "cell_type": "markdown",
   "metadata": {},
   "source": [
    "### Data Processing\n",
    "\n",
    "The data has to be cleaned and re-formatted in order to get the best performance from our algorithms and also to perform further analysis on the data."
   ]
  },
  {
   "cell_type": "markdown",
   "metadata": {},
   "source": [
    "#### Renaming Columns\n",
    "\n",
    "Some column names have spaces in them and make it hard for performing selecting and performing operations. Changing the columns to underscore naming style makes the code much more readable."
   ]
  },
  {
   "cell_type": "code",
   "execution_count": 8,
   "metadata": {},
   "outputs": [
    {
     "data": {
      "text/plain": [
       "Index([u'Customer ID', u'network_age', u'Customer tenure in month',\n",
       "       u'Total Spend in Months 1 and 2 of 2017', u'Total SMS Spend',\n",
       "       u'Total Data Spend', u'Total Data Consumption', u'Total Unique Calls',\n",
       "       u'Total Onnet spend ', u'Total Offnet spend',\n",
       "       u'Total Call centre complaint calls',\n",
       "       u'Network type subscription in Month 1',\n",
       "       u'Network type subscription in Month 2',\n",
       "       u'Most Loved Competitor network in in Month 1',\n",
       "       u'Most Loved Competitor network in in Month 2', u'Churn Status'],\n",
       "      dtype='object')"
      ]
     },
     "execution_count": 8,
     "metadata": {},
     "output_type": "execute_result"
    }
   ],
   "source": [
    "df.columns"
   ]
  },
  {
   "cell_type": "code",
   "execution_count": 9,
   "metadata": {},
   "outputs": [],
   "source": [
    "# Create new column names\n",
    "\n",
    "df['customer_id'] = df['Customer ID']\n",
    "df['customer_tenure'] = df['Customer tenure in month']\n",
    "df['total_spend'] = df['Total Spend in Months 1 and 2 of 2017']\n",
    "df['total_sms_spend'] = df['Total SMS Spend']\n",
    "df['total_data_spend'] = df['Total Data Spend']\n",
    "df['total_data_consumption'] = df['Total Data Consumption']\n",
    "df['total_unique_calls'] = df['Total Unique Calls']\n",
    "df['total_onnet_spend'] = df['Total Onnet spend ']\n",
    "df['total_offnet_spend'] = df['Total Offnet spend']\n",
    "df['total_complaint_calls'] = df['Total Call centre complaint calls']\n",
    "df['network_type_subscription_first_month'] = df['Network type subscription in Month 1']\n",
    "df['network_type_subscription_second_month'] = df['Network type subscription in Month 2']\n",
    "df['most_loved_competitor_first_month'] = df['Most Loved Competitor network in in Month 1']\n",
    "df['most_loved_competitor_second_month'] = df['Most Loved Competitor network in in Month 2']\n",
    "df['churn_status'] = df['Churn Status']\n",
    "\n",
    "# Delete old column names\n",
    "\n",
    "df = df.drop('Customer ID', axis=1)\n",
    "df = df.drop('Customer tenure in month', axis=1)\n",
    "df = df.drop('Total Spend in Months 1 and 2 of 2017', axis=1)\n",
    "df = df.drop('Total SMS Spend', axis=1)\n",
    "df = df.drop('Total Data Spend', axis=1)\n",
    "df = df.drop('Total Data Consumption', axis=1)\n",
    "df = df.drop('Total Unique Calls', axis=1)\n",
    "df = df.drop('Total Onnet spend ', axis=1)\n",
    "df = df.drop('Total Offnet spend', axis=1)\n",
    "df = df.drop('Total Call centre complaint calls', axis=1)\n",
    "df = df.drop('Network type subscription in Month 1', axis=1)\n",
    "df = df.drop('Network type subscription in Month 2', axis=1)\n",
    "df = df.drop('Most Loved Competitor network in in Month 1', axis=1)\n",
    "df = df.drop('Most Loved Competitor network in in Month 2', axis=1)\n",
    "df = df.drop('Churn Status', axis=1)"
   ]
  },
  {
   "cell_type": "code",
   "execution_count": 10,
   "metadata": {},
   "outputs": [
    {
     "data": {
      "text/plain": [
       "Index([u'network_age', u'customer_id', u'customer_tenure', u'total_spend',\n",
       "       u'total_sms_spend', u'total_data_spend', u'total_data_consumption',\n",
       "       u'total_unique_calls', u'total_onnet_spend', u'total_offnet_spend',\n",
       "       u'total_complaint_calls', u'network_type_subscription_first_month',\n",
       "       u'network_type_subscription_second_month',\n",
       "       u'most_loved_competitor_first_month',\n",
       "       u'most_loved_competitor_second_month', u'churn_status'],\n",
       "      dtype='object')"
      ]
     },
     "execution_count": 10,
     "metadata": {},
     "output_type": "execute_result"
    }
   ],
   "source": [
    "df.columns"
   ]
  },
  {
   "cell_type": "markdown",
   "metadata": {},
   "source": [
    "#### Cleaning the data\n",
    "\n",
    "Checking for all the missing data points and replacing them with possible values."
   ]
  },
  {
   "cell_type": "code",
   "execution_count": 11,
   "metadata": {
    "collapsed": false
   },
   "outputs": [],
   "source": [
    "# Droping the Custormer ID column because it doesn't provide any value to the model\n",
    "df = df.drop(\"customer_id\", axis=1)"
   ]
  },
  {
   "cell_type": "code",
   "execution_count": 12,
   "metadata": {},
   "outputs": [
    {
     "data": {
      "text/html": [
       "<div>\n",
       "<style scoped>\n",
       "    .dataframe tbody tr th:only-of-type {\n",
       "        vertical-align: middle;\n",
       "    }\n",
       "\n",
       "    .dataframe tbody tr th {\n",
       "        vertical-align: top;\n",
       "    }\n",
       "\n",
       "    .dataframe thead th {\n",
       "        text-align: right;\n",
       "    }\n",
       "</style>\n",
       "<table border=\"1\" class=\"dataframe\">\n",
       "  <thead>\n",
       "    <tr style=\"text-align: right;\">\n",
       "      <th></th>\n",
       "      <th>network_age</th>\n",
       "      <th>customer_tenure</th>\n",
       "      <th>total_spend</th>\n",
       "      <th>total_sms_spend</th>\n",
       "      <th>total_data_spend</th>\n",
       "      <th>total_data_consumption</th>\n",
       "      <th>total_unique_calls</th>\n",
       "      <th>total_onnet_spend</th>\n",
       "      <th>total_offnet_spend</th>\n",
       "      <th>total_complaint_calls</th>\n",
       "      <th>network_type_subscription_first_month</th>\n",
       "      <th>network_type_subscription_second_month</th>\n",
       "      <th>most_loved_competitor_first_month</th>\n",
       "      <th>most_loved_competitor_second_month</th>\n",
       "      <th>churn_status</th>\n",
       "    </tr>\n",
       "  </thead>\n",
       "  <tbody>\n",
       "    <tr>\n",
       "      <th>1399</th>\n",
       "      <td>904.0</td>\n",
       "      <td>30.13</td>\n",
       "      <td>161.13</td>\n",
       "      <td>0.0</td>\n",
       "      <td>17.5</td>\n",
       "      <td>45187.7549</td>\n",
       "      <td>57.0</td>\n",
       "      <td>1728.0</td>\n",
       "      <td>10529.0</td>\n",
       "      <td>1.0</td>\n",
       "      <td>NaN</td>\n",
       "      <td>NaN</td>\n",
       "      <td>ToCall</td>\n",
       "      <td>Zintel</td>\n",
       "      <td>1.0</td>\n",
       "    </tr>\n",
       "    <tr>\n",
       "      <th>1400</th>\n",
       "      <td>NaN</td>\n",
       "      <td>NaN</td>\n",
       "      <td>NaN</td>\n",
       "      <td>NaN</td>\n",
       "      <td>NaN</td>\n",
       "      <td>NaN</td>\n",
       "      <td>NaN</td>\n",
       "      <td>NaN</td>\n",
       "      <td>NaN</td>\n",
       "      <td>NaN</td>\n",
       "      <td>NaN</td>\n",
       "      <td>NaN</td>\n",
       "      <td>NaN</td>\n",
       "      <td>NaN</td>\n",
       "      <td>NaN</td>\n",
       "    </tr>\n",
       "  </tbody>\n",
       "</table>\n",
       "</div>"
      ],
      "text/plain": [
       "      network_age  customer_tenure  total_spend  total_sms_spend  \\\n",
       "1399        904.0            30.13       161.13              0.0   \n",
       "1400          NaN              NaN          NaN              NaN   \n",
       "\n",
       "      total_data_spend  total_data_consumption  total_unique_calls  \\\n",
       "1399              17.5              45187.7549                57.0   \n",
       "1400               NaN                     NaN                 NaN   \n",
       "\n",
       "      total_onnet_spend  total_offnet_spend  total_complaint_calls  \\\n",
       "1399             1728.0             10529.0                    1.0   \n",
       "1400                NaN                 NaN                    NaN   \n",
       "\n",
       "     network_type_subscription_first_month  \\\n",
       "1399                                   NaN   \n",
       "1400                                   NaN   \n",
       "\n",
       "     network_type_subscription_second_month most_loved_competitor_first_month  \\\n",
       "1399                                    NaN                            ToCall   \n",
       "1400                                    NaN                               NaN   \n",
       "\n",
       "     most_loved_competitor_second_month  churn_status  \n",
       "1399                             Zintel           1.0  \n",
       "1400                                NaN           NaN  "
      ]
     },
     "execution_count": 12,
     "metadata": {},
     "output_type": "execute_result"
    }
   ],
   "source": [
    "df.tail(n=2)"
   ]
  },
  {
   "cell_type": "code",
   "execution_count": 13,
   "metadata": {
    "collapsed": false
   },
   "outputs": [],
   "source": [
    "df = df[:1400].dropna() # Last row is corrupted"
   ]
  },
  {
   "cell_type": "markdown",
   "metadata": {},
   "source": [
    "#### The search for NaN"
   ]
  },
  {
   "cell_type": "code",
   "execution_count": 14,
   "metadata": {},
   "outputs": [
    {
     "name": "stdout",
     "output_type": "stream",
     "text": [
      "Value counts of network_age\n",
      "107.0     8\n",
      "117.0     6\n",
      "110.0     6\n",
      "120.0     6\n",
      "123.0     5\n",
      "137.0     5\n",
      "125.0     5\n",
      "130.0     4\n",
      "108.0     4\n",
      "109.0     4\n",
      "435.0     4\n",
      "168.0     4\n",
      "508.0     4\n",
      "240.0     4\n",
      "132.0     4\n",
      "136.0     4\n",
      "103.0     4\n",
      "138.0     4\n",
      "133.0     4\n",
      "2237.0    4\n",
      "114.0     4\n",
      "204.0     4\n",
      "243.0     4\n",
      "1316.0    3\n",
      "3667.0    3\n",
      "399.0     3\n",
      "155.0     3\n",
      "439.0     3\n",
      "192.0     3\n",
      "942.0     3\n",
      "         ..\n",
      "404.0     1\n",
      "2541.0    1\n",
      "1296.0    1\n",
      "2557.0    1\n",
      "4047.0    1\n",
      "2297.0    1\n",
      "1965.0    1\n",
      "411.0     1\n",
      "2398.0    1\n",
      "1586.0    1\n",
      "3496.0    1\n",
      "3445.0    1\n",
      "4183.0    1\n",
      "2615.0    1\n",
      "3817.0    1\n",
      "2947.0    1\n",
      "3183.0    1\n",
      "2450.0    1\n",
      "3211.0    1\n",
      "2262.0    1\n",
      "1445.0    1\n",
      "1575.0    1\n",
      "1217.0    1\n",
      "2875.0    1\n",
      "1859.0    1\n",
      "2013.0    1\n",
      "3582.0    1\n",
      "1145.0    1\n",
      "2903.0    1\n",
      "2202.0    1\n",
      "Name: network_age, Length: 938, dtype: int64\n",
      "========================\n",
      "========================\n",
      "Value counts of customer_tenure\n",
      "3.57      8\n",
      "3.90      6\n",
      "3.67      6\n",
      "4.00      6\n",
      "4.57      5\n",
      "4.17      5\n",
      "4.10      5\n",
      "3.80      4\n",
      "4.40      4\n",
      "4.33      4\n",
      "3.43      4\n",
      "5.60      4\n",
      "16.93     4\n",
      "8.10      4\n",
      "6.80      4\n",
      "4.43      4\n",
      "14.50     4\n",
      "4.60      4\n",
      "74.57     4\n",
      "3.63      4\n",
      "8.00      4\n",
      "4.53      4\n",
      "3.60      4\n",
      "60.73     3\n",
      "4.77      3\n",
      "41.90     3\n",
      "67.73     3\n",
      "3.33      3\n",
      "122.23    3\n",
      "123.40    3\n",
      "         ..\n",
      "26.93     1\n",
      "50.70     1\n",
      "134.60    1\n",
      "8.30      1\n",
      "78.27     1\n",
      "76.07     1\n",
      "54.17     1\n",
      "15.03     1\n",
      "101.03    1\n",
      "51.93     1\n",
      "14.90     1\n",
      "79.93     1\n",
      "39.23     1\n",
      "25.37     1\n",
      "11.40     1\n",
      "8.60      1\n",
      "17.43     1\n",
      "43.63     1\n",
      "50.33     1\n",
      "92.47     1\n",
      "81.43     1\n",
      "30.13     1\n",
      "31.47     1\n",
      "69.53     1\n",
      "106.27    1\n",
      "57.67     1\n",
      "53.43     1\n",
      "74.70     1\n",
      "86.37     1\n",
      "79.50     1\n",
      "Name: customer_tenure, Length: 938, dtype: int64\n",
      "========================\n",
      "========================\n",
      "Value counts of total_spend\n",
      "875.4000     4\n",
      "437.7000     2\n",
      "1841.6900    2\n",
      "125.1500     2\n",
      "883.1700     2\n",
      "42.7580      1\n",
      "1516.0900    1\n",
      "750.2560     1\n",
      "170.0400     1\n",
      "79.5704      1\n",
      "148.4440     1\n",
      "40.8100      1\n",
      "152.4452     1\n",
      "1078.8100    1\n",
      "372.6300     1\n",
      "998.0900     1\n",
      "208.0560     1\n",
      "342.3700     1\n",
      "161.1000     1\n",
      "2524.9240    1\n",
      "904.3220     1\n",
      "1400.1604    1\n",
      "386.4308     1\n",
      "1382.1984    1\n",
      "609.8640     1\n",
      "833.3044     1\n",
      "44.9700      1\n",
      "607.8200     1\n",
      "600.1800     1\n",
      "55.6688      1\n",
      "            ..\n",
      "1299.4908    1\n",
      "856.6840     1\n",
      "1222.6960    1\n",
      "1180.4804    1\n",
      "488.9160     1\n",
      "1266.7500    1\n",
      "1877.4800    1\n",
      "997.6900     1\n",
      "919.2800     1\n",
      "680.2124     1\n",
      "1069.4300    1\n",
      "634.5116     1\n",
      "529.8800     1\n",
      "174.7700     1\n",
      "54.1220      1\n",
      "233.2300     1\n",
      "276.7400     1\n",
      "535.6300     1\n",
      "1185.0548    1\n",
      "642.8000     1\n",
      "75.4000      1\n",
      "996.6900     1\n",
      "929.8200     1\n",
      "208.5608     1\n",
      "74.4860      1\n",
      "4447.8600    1\n",
      "60.6900      1\n",
      "41.5704      1\n",
      "158.0160     1\n",
      "187.5000     1\n",
      "Name: total_spend, Length: 1195, dtype: int64\n",
      "========================\n",
      "========================\n",
      "Value counts of total_sms_spend\n",
      "0.00      168\n",
      "1.75       45\n",
      "3.50       22\n",
      "5.25       22\n",
      "0.01       19\n",
      "7.17       16\n",
      "9.56       12\n",
      "5.98       12\n",
      "7.00       12\n",
      "11.95      12\n",
      "10.50      11\n",
      "16.73      11\n",
      "14.34      10\n",
      "23.90       9\n",
      "4.78        9\n",
      "11.96       7\n",
      "8.75        7\n",
      "13.70       7\n",
      "2.39        6\n",
      "18.48       6\n",
      "0.60        6\n",
      "14.00       6\n",
      "24.50       6\n",
      "15.75       6\n",
      "20.23       5\n",
      "0.87        5\n",
      "2.62        5\n",
      "15.45       5\n",
      "13.12       5\n",
      "11.31       4\n",
      "         ... \n",
      "43.02       1\n",
      "34.33       1\n",
      "43.92       1\n",
      "10.35       1\n",
      "19.88       1\n",
      "12.42       1\n",
      "11.37       1\n",
      "61.57       1\n",
      "27.32       1\n",
      "135.94      1\n",
      "30.98       1\n",
      "36.94       1\n",
      "134.59      1\n",
      "37.26       1\n",
      "22.80       1\n",
      "2.41        1\n",
      "100.62      1\n",
      "238.13      1\n",
      "20.06       1\n",
      "17.81       1\n",
      "68.24       1\n",
      "39.68       1\n",
      "121.26      1\n",
      "23.29       1\n",
      "39.23       1\n",
      "31.94       1\n",
      "32.74       1\n",
      "28.43       1\n",
      "42.17       1\n",
      "7.32        1\n",
      "Name: total_sms_spend, Length: 637, dtype: int64\n",
      "========================\n",
      "========================\n",
      "Value Counts Of total_data_spend\n",
      "0.00       259\n",
      "1.25       106\n",
      "2.50        49\n",
      "3.75        45\n",
      "5.00        37\n",
      "6.25        31\n",
      "20.00       23\n",
      "10.00       21\n",
      "21.25       20\n",
      "7.50        20\n",
      "11.25       19\n",
      "22.50       19\n",
      "8.75        18\n",
      "13.75       18\n",
      "25.00       17\n",
      "23.75       13\n",
      "12.50       13\n",
      "27.50       12\n",
      "31.25       11\n",
      "56.25       11\n",
      "18.75       10\n",
      "26.25       10\n",
      "40.00        9\n",
      "17.50        9\n",
      "15.00        9\n",
      "53.75        8\n",
      "16.25        8\n",
      "41.25        8\n",
      "32.50        7\n",
      "37.50        7\n",
      "          ... \n",
      "143.75       1\n",
      "1181.25      1\n",
      "9.03         1\n",
      "1757.50      1\n",
      "47.74        1\n",
      "2306.25      1\n",
      "3.72         1\n",
      "398.75       1\n",
      "2.17         1\n",
      "358.75       1\n",
      "250.00       1\n",
      "831.25       1\n",
      "86.21        1\n",
      "238.75       1\n",
      "196.25       1\n",
      "190.03       1\n",
      "671.25       1\n",
      "506.25       1\n",
      "76.57        1\n",
      "23.25        1\n",
      "5.89         1\n",
      "260.00       1\n",
      "210.00       1\n",
      "130.00       1\n",
      "195.00       1\n",
      "175.00       1\n",
      "65.00        1\n",
      "87.50        1\n",
      "113.75       1\n",
      "55.80        1\n",
      "Name: total_data_spend, Length: 228, dtype: int64\n",
      "========================\n",
      "========================\n",
      "Value Counts Of total_data_consumption\n",
      "1.016000e-01    2\n",
      "1.209672e+04    2\n",
      "4.068172e+05    1\n",
      "2.113491e+04    1\n",
      "1.074082e+02    1\n",
      "5.601455e+02    1\n",
      "1.286620e+01    1\n",
      "4.828520e+01    1\n",
      "1.201439e+03    1\n",
      "5.812879e+04    1\n",
      "1.874058e+06    1\n",
      "7.778887e+04    1\n",
      "1.639856e+03    1\n",
      "4.251492e+03    1\n",
      "9.977728e+05    1\n",
      "3.571863e+05    1\n",
      "7.713110e+04    1\n",
      "7.879332e+05    1\n",
      "8.136239e+05    1\n",
      "1.161130e+01    1\n",
      "3.646806e+04    1\n",
      "2.484211e+04    1\n",
      "1.491020e+01    1\n",
      "8.985488e+02    1\n",
      "1.193760e+07    1\n",
      "9.972335e+05    1\n",
      "1.216799e+05    1\n",
      "4.416800e+01    1\n",
      "6.832334e+05    1\n",
      "1.026632e+06    1\n",
      "               ..\n",
      "7.424885e+05    1\n",
      "1.874757e+06    1\n",
      "4.231013e+04    1\n",
      "4.819673e+05    1\n",
      "5.732374e+05    1\n",
      "9.724600e+00    1\n",
      "1.842580e+01    1\n",
      "6.050709e+03    1\n",
      "4.267874e+04    1\n",
      "2.336282e+05    1\n",
      "1.223909e+06    1\n",
      "1.363375e+06    1\n",
      "1.064996e+06    1\n",
      "4.166870e+04    1\n",
      "1.049938e+03    1\n",
      "1.713380e+01    1\n",
      "4.205242e+04    1\n",
      "1.729185e+07    1\n",
      "3.304395e+05    1\n",
      "8.933828e+02    1\n",
      "2.928389e+04    1\n",
      "1.196845e+04    1\n",
      "7.559000e-01    1\n",
      "2.466484e+02    1\n",
      "6.862867e+06    1\n",
      "3.132664e+05    1\n",
      "8.321768e+02    1\n",
      "1.077136e+05    1\n",
      "4.155222e+05    1\n",
      "1.250000e-01    1\n",
      "Name: total_data_consumption, Length: 1200, dtype: int64\n",
      "========================\n",
      "========================\n",
      "Value Counts Of total_unique_calls\n",
      "3.0       30\n",
      "2.0       30\n",
      "5.0       26\n",
      "11.0      22\n",
      "4.0       20\n",
      "8.0       19\n",
      "1.0       18\n",
      "12.0      18\n",
      "15.0      17\n",
      "16.0      15\n",
      "9.0       14\n",
      "7.0       13\n",
      "6.0       13\n",
      "19.0      12\n",
      "22.0      12\n",
      "28.0      10\n",
      "10.0      10\n",
      "13.0      10\n",
      "17.0       9\n",
      "36.0       9\n",
      "23.0       9\n",
      "21.0       9\n",
      "50.0       8\n",
      "33.0       8\n",
      "27.0       8\n",
      "52.0       7\n",
      "112.0      7\n",
      "30.0       7\n",
      "18.0       7\n",
      "25.0       7\n",
      "          ..\n",
      "151.0      1\n",
      "370.0      1\n",
      "247.0      1\n",
      "205.0      1\n",
      "159.0      1\n",
      "477.0      1\n",
      "386.0      1\n",
      "167.0      1\n",
      "379.0      1\n",
      "444.0      1\n",
      "158.0      1\n",
      "199.0      1\n",
      "674.0      1\n",
      "636.0      1\n",
      "657.0      1\n",
      "974.0      1\n",
      "97.0       1\n",
      "593.0      1\n",
      "510.0      1\n",
      "246.0      1\n",
      "178.0      1\n",
      "340.0      1\n",
      "753.0      1\n",
      "1605.0     1\n",
      "67.0       1\n",
      "289.0      1\n",
      "985.0      1\n",
      "1073.0     1\n",
      "1807.0     1\n",
      "1575.0     1\n",
      "Name: total_unique_calls, Length: 471, dtype: int64\n",
      "========================\n",
      "========================\n",
      "Value Counts Of total_onnet_spend\n",
      "0.0        254\n",
      "24.0        16\n",
      "12.0        13\n",
      "228.0       12\n",
      "120.0        8\n",
      "60.0         7\n",
      "216.0        6\n",
      "48.0         6\n",
      "114.0        5\n",
      "348.0        5\n",
      "108.0        5\n",
      "502.0        5\n",
      "477.0        5\n",
      "1908.0       4\n",
      "318.0        4\n",
      "992.0        4\n",
      "762.0        4\n",
      "360.0        4\n",
      "36.0         4\n",
      "240.0        4\n",
      "168.0        4\n",
      "251.0        4\n",
      "954.0        4\n",
      "490.0        3\n",
      "1506.0       3\n",
      "813.0        3\n",
      "741.0        3\n",
      "3251.0       3\n",
      "753.0        3\n",
      "324.0        3\n",
      "          ... \n",
      "33867.0      1\n",
      "8557.0       1\n",
      "6387.0       1\n",
      "9700.0       1\n",
      "4257.0       1\n",
      "7290.0       1\n",
      "6408.0       1\n",
      "1482.0       1\n",
      "6420.0       1\n",
      "24468.0      1\n",
      "21714.0      1\n",
      "19687.0      1\n",
      "3000.0       1\n",
      "36480.0      1\n",
      "534.0        1\n",
      "4112.0       1\n",
      "857.0        1\n",
      "1182.0       1\n",
      "858.0        1\n",
      "13920.0      1\n",
      "2892.0       1\n",
      "610.0        1\n",
      "1095.0       1\n",
      "945.0        1\n",
      "874.0        1\n",
      "2421.0       1\n",
      "10926.0      1\n",
      "4266.0       1\n",
      "42736.0      1\n",
      "564.0        1\n",
      "Name: total_onnet_spend, Length: 751, dtype: int64\n",
      "========================\n",
      "========================\n",
      "Value Counts Of total_offnet_spend\n",
      "179.0       46\n",
      "358.0       37\n",
      "0.0         33\n",
      "537.0       21\n",
      "716.0       10\n",
      "895.0       10\n",
      "1432.0       5\n",
      "395.0        4\n",
      "1350.0       3\n",
      "1790.0       3\n",
      "293.0        3\n",
      "4545.0       3\n",
      "251.0        3\n",
      "1121.0       3\n",
      "713.0        3\n",
      "1611.0       3\n",
      "788.0        3\n",
      "609.0        3\n",
      "1458.0       2\n",
      "191.0        2\n",
      "2625.0       2\n",
      "1932.0       2\n",
      "490.0        2\n",
      "9321.0       2\n",
      "983.0        2\n",
      "1039.0       2\n",
      "932.0        2\n",
      "4591.0       2\n",
      "867.0        2\n",
      "4893.0       2\n",
      "            ..\n",
      "4425.0       1\n",
      "20768.0      1\n",
      "2168.0       1\n",
      "419.0        1\n",
      "2771.0       1\n",
      "22827.0      1\n",
      "330409.0     1\n",
      "1185.0       1\n",
      "52733.0      1\n",
      "20930.0      1\n",
      "1211.0       1\n",
      "15432.0      1\n",
      "3838.0       1\n",
      "3921.0       1\n",
      "1037.0       1\n",
      "21546.0      1\n",
      "26455.0      1\n",
      "10991.0      1\n",
      "41027.0      1\n",
      "4761.0       1\n",
      "20590.0      1\n",
      "6843.0       1\n",
      "34804.0      1\n",
      "7990.0       1\n",
      "3681.0       1\n",
      "20201.0      1\n",
      "10889.0      1\n",
      "701.0        1\n",
      "11915.0      1\n",
      "91774.0      1\n",
      "Name: total_offnet_spend, Length: 981, dtype: int64\n",
      "========================\n",
      "========================\n",
      "Value Counts Of total_complaint_calls\n",
      "1.0     768\n",
      "2.0     233\n",
      "3.0      78\n",
      "4.0      42\n",
      "5.0      22\n",
      "6.0      17\n",
      "8.0       9\n",
      "7.0       9\n",
      "11.0      5\n",
      "9.0       4\n",
      "10.0      3\n",
      "12.0      3\n",
      "14.0      2\n",
      "13.0      2\n",
      "18.0      1\n",
      "49.0      1\n",
      "15.0      1\n",
      "16.0      1\n",
      "21.0      1\n",
      "Name: total_complaint_calls, dtype: int64\n",
      "========================\n",
      "========================\n",
      "Value Counts Of network_type_subscription_first_month\n",
      "3G       614\n",
      "2G       303\n",
      "Other    285\n",
      "Name: network_type_subscription_first_month, dtype: int64\n",
      "========================\n",
      "========================\n",
      "Value Counts Of network_type_subscription_second_month\n",
      "3G       634\n",
      "Other    285\n",
      "2G       283\n",
      "Name: network_type_subscription_second_month, dtype: int64\n",
      "========================\n",
      "========================\n",
      "Value Counts Of most_loved_competitor_first_month\n",
      "PQza        286\n",
      "Uxaa        278\n",
      "Mango       178\n",
      "ToCall      174\n",
      "Zintel      133\n",
      "Weematel    121\n",
      "0            32\n",
      "Name: most_loved_competitor_first_month, dtype: int64\n",
      "========================\n",
      "========================\n",
      "Value Counts Of most_loved_competitor_second_month\n",
      "Uxaa        723\n",
      "PQza        252\n",
      "Mango        90\n",
      "ToCall       53\n",
      "Weematel     46\n",
      "Zintel       38\n",
      "Name: most_loved_competitor_second_month, dtype: int64\n"
     ]
    }
   ],
   "source": [
    "print 'Value counts of network_age'\n",
    "print df['network_age'].value_counts(dropna=False)\n",
    "print '========================'\n",
    "print '========================'\n",
    "print 'Value counts of customer_tenure'\n",
    "print df['customer_tenure'].value_counts(dropna=False)\n",
    "print '========================'\n",
    "print '========================'\n",
    "print 'Value counts of total_spend'\n",
    "print df['total_spend'].value_counts(dropna=False)\n",
    "print '========================'\n",
    "print '========================'\n",
    "print 'Value counts of total_sms_spend'\n",
    "print df['total_sms_spend'].value_counts(dropna=False)\n",
    "print '========================'\n",
    "print '========================'\n",
    "print \"Value Counts Of total_data_spend\"\n",
    "print df['total_data_spend'].value_counts(dropna=False)\n",
    "print '========================'\n",
    "print '========================'\n",
    "print \"Value Counts Of total_data_consumption\"\n",
    "print df['total_data_consumption'].value_counts(dropna=False)\n",
    "print '========================'\n",
    "print '========================'\n",
    "print \"Value Counts Of total_unique_calls\"\n",
    "print df['total_unique_calls'].value_counts(dropna=False)\n",
    "print '========================'\n",
    "print '========================'\n",
    "print \"Value Counts Of total_onnet_spend\"\n",
    "print df['total_onnet_spend'].value_counts(dropna=False)\n",
    "print '========================'\n",
    "print '========================'\n",
    "print \"Value Counts Of total_offnet_spend\"\n",
    "print df['total_offnet_spend'].value_counts(dropna=False)\n",
    "print '========================'\n",
    "print '========================'\n",
    "print \"Value Counts Of total_complaint_calls\"\n",
    "print df['total_complaint_calls'].value_counts(dropna=False)\n",
    "print '========================'\n",
    "print '========================'\n",
    "print \"Value Counts Of network_type_subscription_first_month\"\n",
    "print df['network_type_subscription_first_month'].value_counts(dropna=False)\n",
    "print '========================'\n",
    "print '========================'\n",
    "print \"Value Counts Of network_type_subscription_second_month\"\n",
    "print df['network_type_subscription_second_month'].value_counts(dropna=False)\n",
    "print '========================'\n",
    "print '========================'\n",
    "print \"Value Counts Of most_loved_competitor_first_month\"\n",
    "print df['most_loved_competitor_first_month'].value_counts(dropna=False)\n",
    "print '========================'\n",
    "print '========================'\n",
    "print \"Value Counts Of most_loved_competitor_second_month\"\n",
    "print df['most_loved_competitor_second_month'].value_counts(dropna=False)"
   ]
  },
  {
   "cell_type": "markdown",
   "metadata": {},
   "source": [
    "** All other columns except most_loved_competitor on the first month don't have NaN values. **"
   ]
  },
  {
   "cell_type": "markdown",
   "metadata": {},
   "source": [
    "### Converting string values to numerical equivalent and filling missing data points."
   ]
  },
  {
   "cell_type": "code",
   "execution_count": 15,
   "metadata": {
    "collapsed": false
   },
   "outputs": [],
   "source": [
    "# Replace sting values of network type to numerical values\n",
    "def network_type(type):\n",
    "    if type == '2G':\n",
    "        return 1\n",
    "    if type == '3G':\n",
    "        return 2\n",
    "    \n",
    "    return 0\n",
    "        \n",
    "df[\"network_type_subscription_first_month\"] = df[\"network_type_subscription_first_month\"].apply(network_type)\n",
    "df[\"network_type_subscription_second_month\"] = df[\"network_type_subscription_second_month\"].apply(network_type)"
   ]
  },
  {
   "cell_type": "code",
   "execution_count": 16,
   "metadata": {},
   "outputs": [],
   "source": [
    "# Drop missing most_loved_competitor_first_month\n",
    "df = df[df['most_loved_competitor_first_month'] != 0]"
   ]
  },
  {
   "cell_type": "code",
   "execution_count": 17,
   "metadata": {
    "collapsed": false
   },
   "outputs": [],
   "source": [
    "# Use label encoders for both network names\n",
    "encoder = LabelEncoder()\n",
    "    \n",
    "month1 = df[\"most_loved_competitor_first_month\"]\n",
    "month2 = df[\"most_loved_competitor_second_month\"]\n",
    "\n",
    "love_month1 = encoder.fit_transform(month1)\n",
    "love_month2 = encoder.fit_transform(month2)\n",
    "\n",
    "df['most_loved_competitor_first_month'] = love_month1\n",
    "df['most_loved_competitor_second_month'] = love_month2"
   ]
  },
  {
   "cell_type": "code",
   "execution_count": 18,
   "metadata": {},
   "outputs": [
    {
     "data": {
      "text/html": [
       "<div>\n",
       "<style scoped>\n",
       "    .dataframe tbody tr th:only-of-type {\n",
       "        vertical-align: middle;\n",
       "    }\n",
       "\n",
       "    .dataframe tbody tr th {\n",
       "        vertical-align: top;\n",
       "    }\n",
       "\n",
       "    .dataframe thead th {\n",
       "        text-align: right;\n",
       "    }\n",
       "</style>\n",
       "<table border=\"1\" class=\"dataframe\">\n",
       "  <thead>\n",
       "    <tr style=\"text-align: right;\">\n",
       "      <th></th>\n",
       "      <th>network_age</th>\n",
       "      <th>customer_tenure</th>\n",
       "      <th>total_spend</th>\n",
       "      <th>total_sms_spend</th>\n",
       "      <th>total_data_spend</th>\n",
       "      <th>total_data_consumption</th>\n",
       "      <th>total_unique_calls</th>\n",
       "      <th>total_onnet_spend</th>\n",
       "      <th>total_offnet_spend</th>\n",
       "      <th>total_complaint_calls</th>\n",
       "      <th>network_type_subscription_first_month</th>\n",
       "      <th>network_type_subscription_second_month</th>\n",
       "      <th>most_loved_competitor_first_month</th>\n",
       "      <th>most_loved_competitor_second_month</th>\n",
       "      <th>churn_status</th>\n",
       "    </tr>\n",
       "  </thead>\n",
       "  <tbody>\n",
       "    <tr>\n",
       "      <th>0</th>\n",
       "      <td>123.0</td>\n",
       "      <td>4.10</td>\n",
       "      <td>76.7140</td>\n",
       "      <td>0.00</td>\n",
       "      <td>1.25</td>\n",
       "      <td>1.4951</td>\n",
       "      <td>14.0</td>\n",
       "      <td>564.0</td>\n",
       "      <td>6408.0</td>\n",
       "      <td>2.0</td>\n",
       "      <td>1</td>\n",
       "      <td>1</td>\n",
       "      <td>4</td>\n",
       "      <td>0</td>\n",
       "      <td>0.0</td>\n",
       "    </tr>\n",
       "    <tr>\n",
       "      <th>1</th>\n",
       "      <td>1316.0</td>\n",
       "      <td>43.87</td>\n",
       "      <td>98.8904</td>\n",
       "      <td>4.14</td>\n",
       "      <td>1.25</td>\n",
       "      <td>1.0244</td>\n",
       "      <td>27.0</td>\n",
       "      <td>1626.0</td>\n",
       "      <td>4373.0</td>\n",
       "      <td>1.0</td>\n",
       "      <td>1</td>\n",
       "      <td>1</td>\n",
       "      <td>4</td>\n",
       "      <td>0</td>\n",
       "      <td>0.0</td>\n",
       "    </tr>\n",
       "    <tr>\n",
       "      <th>2</th>\n",
       "      <td>2385.0</td>\n",
       "      <td>79.50</td>\n",
       "      <td>372.6300</td>\n",
       "      <td>3.51</td>\n",
       "      <td>1.25</td>\n",
       "      <td>6.0898</td>\n",
       "      <td>119.0</td>\n",
       "      <td>10411.0</td>\n",
       "      <td>22039.0</td>\n",
       "      <td>1.0</td>\n",
       "      <td>1</td>\n",
       "      <td>1</td>\n",
       "      <td>5</td>\n",
       "      <td>0</td>\n",
       "      <td>0.0</td>\n",
       "    </tr>\n",
       "    <tr>\n",
       "      <th>3</th>\n",
       "      <td>1614.0</td>\n",
       "      <td>53.80</td>\n",
       "      <td>530.2000</td>\n",
       "      <td>6.85</td>\n",
       "      <td>1.25</td>\n",
       "      <td>3.3447</td>\n",
       "      <td>69.0</td>\n",
       "      <td>6822.0</td>\n",
       "      <td>6274.0</td>\n",
       "      <td>1.0</td>\n",
       "      <td>1</td>\n",
       "      <td>1</td>\n",
       "      <td>0</td>\n",
       "      <td>0</td>\n",
       "      <td>0.0</td>\n",
       "    </tr>\n",
       "    <tr>\n",
       "      <th>4</th>\n",
       "      <td>2175.0</td>\n",
       "      <td>72.50</td>\n",
       "      <td>554.1300</td>\n",
       "      <td>6.99</td>\n",
       "      <td>153.75</td>\n",
       "      <td>673204.0342</td>\n",
       "      <td>33.0</td>\n",
       "      <td>3387.0</td>\n",
       "      <td>7241.0</td>\n",
       "      <td>1.0</td>\n",
       "      <td>1</td>\n",
       "      <td>2</td>\n",
       "      <td>5</td>\n",
       "      <td>0</td>\n",
       "      <td>0.0</td>\n",
       "    </tr>\n",
       "  </tbody>\n",
       "</table>\n",
       "</div>"
      ],
      "text/plain": [
       "   network_age  customer_tenure  total_spend  total_sms_spend  \\\n",
       "0        123.0             4.10      76.7140             0.00   \n",
       "1       1316.0            43.87      98.8904             4.14   \n",
       "2       2385.0            79.50     372.6300             3.51   \n",
       "3       1614.0            53.80     530.2000             6.85   \n",
       "4       2175.0            72.50     554.1300             6.99   \n",
       "\n",
       "   total_data_spend  total_data_consumption  total_unique_calls  \\\n",
       "0              1.25                  1.4951                14.0   \n",
       "1              1.25                  1.0244                27.0   \n",
       "2              1.25                  6.0898               119.0   \n",
       "3              1.25                  3.3447                69.0   \n",
       "4            153.75             673204.0342                33.0   \n",
       "\n",
       "   total_onnet_spend  total_offnet_spend  total_complaint_calls  \\\n",
       "0              564.0              6408.0                    2.0   \n",
       "1             1626.0              4373.0                    1.0   \n",
       "2            10411.0             22039.0                    1.0   \n",
       "3             6822.0              6274.0                    1.0   \n",
       "4             3387.0              7241.0                    1.0   \n",
       "\n",
       "   network_type_subscription_first_month  \\\n",
       "0                                      1   \n",
       "1                                      1   \n",
       "2                                      1   \n",
       "3                                      1   \n",
       "4                                      1   \n",
       "\n",
       "   network_type_subscription_second_month  most_loved_competitor_first_month  \\\n",
       "0                                       1                                  4   \n",
       "1                                       1                                  4   \n",
       "2                                       1                                  5   \n",
       "3                                       1                                  0   \n",
       "4                                       2                                  5   \n",
       "\n",
       "   most_loved_competitor_second_month  churn_status  \n",
       "0                                   0           0.0  \n",
       "1                                   0           0.0  \n",
       "2                                   0           0.0  \n",
       "3                                   0           0.0  \n",
       "4                                   0           0.0  "
      ]
     },
     "execution_count": 18,
     "metadata": {},
     "output_type": "execute_result"
    }
   ],
   "source": [
    "df.head(n=5)"
   ]
  },
  {
   "cell_type": "markdown",
   "metadata": {},
   "source": [
    "### Feature Engineering"
   ]
  },
  {
   "cell_type": "code",
   "execution_count": 19,
   "metadata": {
    "collapsed": false
   },
   "outputs": [
    {
     "data": {
      "text/plain": [
       "<matplotlib.axes._subplots.AxesSubplot at 0x104494d10>"
      ]
     },
     "execution_count": 19,
     "metadata": {},
     "output_type": "execute_result"
    },
    {
     "data": {
      "image/png": "[encoded data removed]",
      "text/plain": [
       "<matplotlib.figure.Figure at 0x104553310>"
      ]
     },
     "metadata": {},
     "output_type": "display_data"
    }
   ],
   "source": [
    "# Visualizing correlations in data\n",
    "sns.heatmap(df.corr())"
   ]
  },
  {
   "cell_type": "code",
   "execution_count": 20,
   "metadata": {},
   "outputs": [],
   "source": [
    "# Droping network age because it was not documented, It's also the same with customere_tenure\n",
    "df = df.drop('network_age', axis=1)"
   ]
  },
  {
   "cell_type": "code",
   "execution_count": 21,
   "metadata": {
    "collapsed": true
   },
   "outputs": [],
   "source": [
    "# Other spendings that the custormer has made.\n",
    "df['other_spend'] = (df['total_spend'] - df['total_data_spend']) - df['total_sms_spend']"
   ]
  },
  {
   "cell_type": "code",
   "execution_count": 22,
   "metadata": {
    "collapsed": false
   },
   "outputs": [],
   "source": [
    "# Drop total_data_consumption because total_data_spend provides more info on internet usage.\n",
    "df = df.drop('total_data_consumption', axis=1)"
   ]
  },
  {
   "cell_type": "code",
   "execution_count": 23,
   "metadata": {
    "collapsed": false,
    "scrolled": true
   },
   "outputs": [
    {
     "data": {
      "text/html": [
       "<div>\n",
       "<style scoped>\n",
       "    .dataframe tbody tr th:only-of-type {\n",
       "        vertical-align: middle;\n",
       "    }\n",
       "\n",
       "    .dataframe tbody tr th {\n",
       "        vertical-align: top;\n",
       "    }\n",
       "\n",
       "    .dataframe thead th {\n",
       "        text-align: right;\n",
       "    }\n",
       "</style>\n",
       "<table border=\"1\" class=\"dataframe\">\n",
       "  <thead>\n",
       "    <tr style=\"text-align: right;\">\n",
       "      <th></th>\n",
       "      <th>customer_tenure</th>\n",
       "      <th>total_spend</th>\n",
       "      <th>total_sms_spend</th>\n",
       "      <th>total_data_spend</th>\n",
       "      <th>total_unique_calls</th>\n",
       "      <th>total_onnet_spend</th>\n",
       "      <th>total_offnet_spend</th>\n",
       "      <th>total_complaint_calls</th>\n",
       "      <th>network_type_subscription_first_month</th>\n",
       "      <th>network_type_subscription_second_month</th>\n",
       "      <th>most_loved_competitor_first_month</th>\n",
       "      <th>most_loved_competitor_second_month</th>\n",
       "      <th>churn_status</th>\n",
       "      <th>other_spend</th>\n",
       "    </tr>\n",
       "  </thead>\n",
       "  <tbody>\n",
       "    <tr>\n",
       "      <th>count</th>\n",
       "      <td>1202.000000</td>\n",
       "      <td>1202.000000</td>\n",
       "      <td>1202.000000</td>\n",
       "      <td>1202.000000</td>\n",
       "      <td>1202.000000</td>\n",
       "      <td>1202.000000</td>\n",
       "      <td>1202.000000</td>\n",
       "      <td>1202.000000</td>\n",
       "      <td>1202.000000</td>\n",
       "      <td>1202.000000</td>\n",
       "      <td>1202.000000</td>\n",
       "      <td>1202.000000</td>\n",
       "      <td>1202.000000</td>\n",
       "      <td>1202.000000</td>\n",
       "    </tr>\n",
       "    <tr>\n",
       "      <th>mean</th>\n",
       "      <td>50.393436</td>\n",
       "      <td>834.867153</td>\n",
       "      <td>30.446431</td>\n",
       "      <td>61.382621</td>\n",
       "      <td>212.809484</td>\n",
       "      <td>6789.514143</td>\n",
       "      <td>16124.043261</td>\n",
       "      <td>1.924293</td>\n",
       "      <td>1.273710</td>\n",
       "      <td>1.290349</td>\n",
       "      <td>3.150582</td>\n",
       "      <td>2.413478</td>\n",
       "      <td>0.509151</td>\n",
       "      <td>743.038102</td>\n",
       "    </tr>\n",
       "    <tr>\n",
       "      <th>std</th>\n",
       "      <td>42.476090</td>\n",
       "      <td>1308.716712</td>\n",
       "      <td>58.333123</td>\n",
       "      <td>309.525210</td>\n",
       "      <td>313.513515</td>\n",
       "      <td>16433.346260</td>\n",
       "      <td>37729.292479</td>\n",
       "      <td>2.386492</td>\n",
       "      <td>0.820709</td>\n",
       "      <td>0.825120</td>\n",
       "      <td>1.636833</td>\n",
       "      <td>1.174068</td>\n",
       "      <td>0.500124</td>\n",
       "      <td>1102.410556</td>\n",
       "    </tr>\n",
       "    <tr>\n",
       "      <th>min</th>\n",
       "      <td>-0.170000</td>\n",
       "      <td>4.910000</td>\n",
       "      <td>0.000000</td>\n",
       "      <td>0.000000</td>\n",
       "      <td>1.000000</td>\n",
       "      <td>0.000000</td>\n",
       "      <td>0.000000</td>\n",
       "      <td>1.000000</td>\n",
       "      <td>0.000000</td>\n",
       "      <td>0.000000</td>\n",
       "      <td>0.000000</td>\n",
       "      <td>0.000000</td>\n",
       "      <td>0.000000</td>\n",
       "      <td>2.392000</td>\n",
       "    </tr>\n",
       "    <tr>\n",
       "      <th>25%</th>\n",
       "      <td>12.317500</td>\n",
       "      <td>164.937500</td>\n",
       "      <td>3.500000</td>\n",
       "      <td>1.250000</td>\n",
       "      <td>19.000000</td>\n",
       "      <td>84.000000</td>\n",
       "      <td>1135.000000</td>\n",
       "      <td>1.000000</td>\n",
       "      <td>1.000000</td>\n",
       "      <td>1.000000</td>\n",
       "      <td>2.000000</td>\n",
       "      <td>1.000000</td>\n",
       "      <td>0.000000</td>\n",
       "      <td>123.752500</td>\n",
       "    </tr>\n",
       "    <tr>\n",
       "      <th>50%</th>\n",
       "      <td>41.450000</td>\n",
       "      <td>632.092000</td>\n",
       "      <td>14.010000</td>\n",
       "      <td>10.000000</td>\n",
       "      <td>87.000000</td>\n",
       "      <td>1629.000000</td>\n",
       "      <td>4254.000000</td>\n",
       "      <td>1.000000</td>\n",
       "      <td>2.000000</td>\n",
       "      <td>2.000000</td>\n",
       "      <td>3.000000</td>\n",
       "      <td>3.000000</td>\n",
       "      <td>1.000000</td>\n",
       "      <td>553.195400</td>\n",
       "    </tr>\n",
       "    <tr>\n",
       "      <th>75%</th>\n",
       "      <td>76.400000</td>\n",
       "      <td>1035.400300</td>\n",
       "      <td>31.275000</td>\n",
       "      <td>43.750000</td>\n",
       "      <td>268.750000</td>\n",
       "      <td>7322.250000</td>\n",
       "      <td>13429.250000</td>\n",
       "      <td>2.000000</td>\n",
       "      <td>2.000000</td>\n",
       "      <td>2.000000</td>\n",
       "      <td>4.000000</td>\n",
       "      <td>3.000000</td>\n",
       "      <td>1.000000</td>\n",
       "      <td>958.611000</td>\n",
       "    </tr>\n",
       "    <tr>\n",
       "      <th>max</th>\n",
       "      <td>181.700000</td>\n",
       "      <td>24438.830000</td>\n",
       "      <td>665.000000</td>\n",
       "      <td>8295.000000</td>\n",
       "      <td>2596.000000</td>\n",
       "      <td>381174.000000</td>\n",
       "      <td>431440.000000</td>\n",
       "      <td>49.000000</td>\n",
       "      <td>2.000000</td>\n",
       "      <td>2.000000</td>\n",
       "      <td>6.000000</td>\n",
       "      <td>5.000000</td>\n",
       "      <td>1.000000</td>\n",
       "      <td>16159.686000</td>\n",
       "    </tr>\n",
       "  </tbody>\n",
       "</table>\n",
       "</div>"
      ],
      "text/plain": [
       "       customer_tenure   total_spend  total_sms_spend  total_data_spend  \\\n",
       "count      1202.000000   1202.000000      1202.000000       1202.000000   \n",
       "mean         50.393436    834.867153        30.446431         61.382621   \n",
       "std          42.476090   1308.716712        58.333123        309.525210   \n",
       "min          -0.170000      4.910000         0.000000          0.000000   \n",
       "25%          12.317500    164.937500         3.500000          1.250000   \n",
       "50%          41.450000    632.092000        14.010000         10.000000   \n",
       "75%          76.400000   1035.400300        31.275000         43.750000   \n",
       "max         181.700000  24438.830000       665.000000       8295.000000   \n",
       "\n",
       "       total_unique_calls  total_onnet_spend  total_offnet_spend  \\\n",
       "count         1202.000000        1202.000000         1202.000000   \n",
       "mean           212.809484        6789.514143        16124.043261   \n",
       "std            313.513515       16433.346260        37729.292479   \n",
       "min              1.000000           0.000000            0.000000   \n",
       "25%             19.000000          84.000000         1135.000000   \n",
       "50%             87.000000        1629.000000         4254.000000   \n",
       "75%            268.750000        7322.250000        13429.250000   \n",
       "max           2596.000000      381174.000000       431440.000000   \n",
       "\n",
       "       total_complaint_calls  network_type_subscription_first_month  \\\n",
       "count            1202.000000                            1202.000000   \n",
       "mean                1.924293                               1.273710   \n",
       "std                 2.386492                               0.820709   \n",
       "min                 1.000000                               0.000000   \n",
       "25%                 1.000000                               1.000000   \n",
       "50%                 1.000000                               2.000000   \n",
       "75%                 2.000000                               2.000000   \n",
       "max                49.000000                               2.000000   \n",
       "\n",
       "       network_type_subscription_second_month  \\\n",
       "count                             1202.000000   \n",
       "mean                                 1.290349   \n",
       "std                                  0.825120   \n",
       "min                                  0.000000   \n",
       "25%                                  1.000000   \n",
       "50%                                  2.000000   \n",
       "75%                                  2.000000   \n",
       "max                                  2.000000   \n",
       "\n",
       "       most_loved_competitor_first_month  most_loved_competitor_second_month  \\\n",
       "count                        1202.000000                         1202.000000   \n",
       "mean                            3.150582                            2.413478   \n",
       "std                             1.636833                            1.174068   \n",
       "min                             0.000000                            0.000000   \n",
       "25%                             2.000000                            1.000000   \n",
       "50%                             3.000000                            3.000000   \n",
       "75%                             4.000000                            3.000000   \n",
       "max                             6.000000                            5.000000   \n",
       "\n",
       "       churn_status   other_spend  \n",
       "count   1202.000000   1202.000000  \n",
       "mean       0.509151    743.038102  \n",
       "std        0.500124   1102.410556  \n",
       "min        0.000000      2.392000  \n",
       "25%        0.000000    123.752500  \n",
       "50%        1.000000    553.195400  \n",
       "75%        1.000000    958.611000  \n",
       "max        1.000000  16159.686000  "
      ]
     },
     "execution_count": 23,
     "metadata": {},
     "output_type": "execute_result"
    }
   ],
   "source": [
    "df.describe()"
   ]
  },
  {
   "cell_type": "code",
   "execution_count": 24,
   "metadata": {},
   "outputs": [
    {
     "data": {
      "text/plain": [
       "<matplotlib.axes._subplots.AxesSubplot at 0x1a174baad0>"
      ]
     },
     "execution_count": 24,
     "metadata": {},
     "output_type": "execute_result"
    },
    {
     "data": {
      "image/png": "[encoded data removed]",
      "text/plain": [
       "<matplotlib.figure.Figure at 0x1a0e2c3f10>"
      ]
     },
     "metadata": {},
     "output_type": "display_data"
    }
   ],
   "source": [
    "sns.heatmap(df.corr())"
   ]
  },
  {
   "cell_type": "markdown",
   "metadata": {},
   "source": [
    "### Sperating labels from features."
   ]
  },
  {
   "cell_type": "code",
   "execution_count": 25,
   "metadata": {
    "collapsed": false
   },
   "outputs": [],
   "source": [
    "# Remove target feature from data frame\n",
    "churn_status = pd.Series(df['churn_status'], dtype='float32')\n",
    "feature_final = df.drop('churn_status', axis=1)"
   ]
  },
  {
   "cell_type": "markdown",
   "metadata": {},
   "source": [
    "### Using cross validationg to split train and test data."
   ]
  },
  {
   "cell_type": "code",
   "execution_count": 27,
   "metadata": {
    "collapsed": false
   },
   "outputs": [],
   "source": [
    "X_train, X_test, y_train, y_test = train_test_split(feature_final,\n",
    "                                                    churn_status,\n",
    "                                                   test_size = 0.2,\n",
    "                                                   random_state = 0)"
   ]
  },
  {
   "cell_type": "code",
   "execution_count": 28,
   "metadata": {
    "collapsed": false
   },
   "outputs": [
    {
     "name": "stdout",
     "output_type": "stream",
     "text": [
      "Training set has (961, 13) samples.\n",
      "Testing set has (961,) samples.\n"
     ]
    }
   ],
   "source": [
    "print \"Training set has {} samples.\".format(X_train.shape)\n",
    "print \"Testing set has {} samples.\".format(y_train.shape)"
   ]
  },
  {
   "cell_type": "markdown",
   "metadata": {},
   "source": [
    "## Feature Selection"
   ]
  },
  {
   "cell_type": "code",
   "execution_count": 29,
   "metadata": {
    "collapsed": true
   },
   "outputs": [],
   "source": [
    "forest = RandomForestClassifier(n_estimators=20, random_state = 0)"
   ]
  },
  {
   "cell_type": "code",
   "execution_count": 30,
   "metadata": {
    "collapsed": false
   },
   "outputs": [
    {
     "data": {
      "text/plain": [
       "RandomForestClassifier(bootstrap=True, class_weight=None, criterion='gini',\n",
       "            max_depth=None, max_features='auto', max_leaf_nodes=None,\n",
       "            min_impurity_decrease=0.0, min_impurity_split=None,\n",
       "            min_samples_leaf=1, min_samples_split=2,\n",
       "            min_weight_fraction_leaf=0.0, n_estimators=20, n_jobs=1,\n",
       "            oob_score=False, random_state=0, verbose=0, warm_start=False)"
      ]
     },
     "execution_count": 30,
     "metadata": {},
     "output_type": "execute_result"
    }
   ],
   "source": [
    "forest.fit(X_train, y_train)"
   ]
  },
  {
   "cell_type": "code",
   "execution_count": 31,
   "metadata": {
    "collapsed": true
   },
   "outputs": [],
   "source": [
    "importances = forest.feature_importances_"
   ]
  },
  {
   "cell_type": "code",
   "execution_count": 32,
   "metadata": {},
   "outputs": [],
   "source": [
    "# Hold feature labels for feature selection\n",
    "feature_labels = feature_final.columns"
   ]
  },
  {
   "cell_type": "code",
   "execution_count": 33,
   "metadata": {
    "collapsed": true
   },
   "outputs": [],
   "source": [
    "indices = np.argsort(importances)[::-1]"
   ]
  },
  {
   "cell_type": "code",
   "execution_count": 34,
   "metadata": {
    "collapsed": false,
    "scrolled": true
   },
   "outputs": [
    {
     "name": "stdout",
     "output_type": "stream",
     "text": [
      " 1) total_spend                    0.211179\n",
      " 2) other_spend                    0.187002\n",
      " 3) total_sms_spend                0.116163\n",
      " 4) total_offnet_spend             0.095729\n",
      " 5) total_unique_calls             0.094609\n",
      " 6) customer_tenure                0.071317\n",
      " 7) total_onnet_spend              0.063612\n",
      " 8) total_data_spend               0.050309\n",
      " 9) most_loved_competitor_second_month 0.033238\n",
      "10) total_complaint_calls          0.028141\n",
      "11) most_loved_competitor_first_month 0.028116\n",
      "12) network_type_subscription_second_month 0.010423\n",
      "13) network_type_subscription_first_month 0.010160\n"
     ]
    }
   ],
   "source": [
    "for f in range(X_train.shape[1]):\n",
    "    print(\"%2d) %-*s %f\" % (f+1, 30, feature_labels[indices[f]], importances[indices[f]]))"
   ]
  },
  {
   "cell_type": "markdown",
   "metadata": {},
   "source": [
    "*** Making use of the first eight features to train the models and disregarging the last three models because they don't help our models. Furthermore the last three models doesn't show relevant correlation with the rest of the features on the heatmap above. ***"
   ]
  },
  {
   "cell_type": "code",
   "execution_count": 35,
   "metadata": {},
   "outputs": [],
   "source": [
    "X_train = X_train.drop('most_loved_competitor_second_month', axis=1)\n",
    "X_train = X_train.drop('total_complaint_calls', axis=1)\n",
    "X_train = X_train.drop('most_loved_competitor_first_month', axis=1)\n",
    "X_train = X_train.drop('network_type_subscription_second_month', axis=1)\n",
    "X_train = X_train.drop('network_type_subscription_first_month', axis=1)\n",
    "\n",
    "X_test = X_test.drop('most_loved_competitor_second_month', axis=1)\n",
    "X_test = X_test.drop('total_complaint_calls', axis=1)\n",
    "X_test = X_test.drop('most_loved_competitor_first_month', axis=1)\n",
    "X_test = X_test.drop('network_type_subscription_second_month', axis=1)\n",
    "X_test = X_test.drop('network_type_subscription_first_month', axis=1)"
   ]
  },
  {
   "cell_type": "markdown",
   "metadata": {},
   "source": [
    "## Testing model performance based on defferent sizes of training data"
   ]
  },
  {
   "cell_type": "code",
   "execution_count": 36,
   "metadata": {
    "collapsed": false
   },
   "outputs": [
    {
     "name": "stdout",
     "output_type": "stream",
     "text": [
      "100 samples is 961\n",
      "10 samples is 96\n",
      "1 samples is 9\n"
     ]
    }
   ],
   "source": [
    "samples_100 = len(y_train)\n",
    "samples_10 = int(math.floor((samples_100 * 10) / 100))\n",
    "samples_1 = int(math.floor((samples_100 * 1) / 100))\n",
    "\n",
    "print \"100 samples is {}\".format(samples_100)\n",
    "print \"10 samples is {}\".format(samples_10)\n",
    "print \"1 samples is {}\".format(samples_1)"
   ]
  },
  {
   "cell_type": "code",
   "execution_count": 37,
   "metadata": {
    "collapsed": true
   },
   "outputs": [],
   "source": [
    "def train_predict(learner, sample_size, X_train, y_train, X_test, y_test): \n",
    "    results = {}\n",
    "    start = time()\n",
    "    learner.fit(X_train[:sample_size], y_train[:sample_size])\n",
    "    end = time()\n",
    "    results['train_time'] = end - start\n",
    "    predictions_test = learner.predict(X_test)\n",
    "    predictions_train = learner.predict(X_train[:300])\n",
    "    end = time() \n",
    "\n",
    "    results['pred_time'] = end - start\n",
    "    results['acc_train'] = accuracy_score(predictions_train[:300], y_train[:300])\n",
    "    results['acc_test'] = accuracy_score(predictions_test, y_test)\n",
    "    results['f_train'] = fbeta_score(predictions_train[:300], y_train[:300], beta=0.5)\n",
    "    results['f_test'] = fbeta_score(predictions_test, y_test, beta=0.5)\n",
    "       \n",
    "    print \"{} trained on {} samples.\".format(learner.__class__.__name__, sample_size)\n",
    "    return results"
   ]
  },
  {
   "cell_type": "code",
   "execution_count": 38,
   "metadata": {
    "collapsed": false
   },
   "outputs": [],
   "source": [
    "clf_A = DecisionTreeClassifier()\n",
    "clf_B = SVC()\n",
    "clf_C = XGBClassifier()"
   ]
  },
  {
   "cell_type": "code",
   "execution_count": 39,
   "metadata": {
    "collapsed": false
   },
   "outputs": [
    {
     "name": "stdout",
     "output_type": "stream",
     "text": [
      "DecisionTreeClassifier trained on 9 samples.\n",
      "DecisionTreeClassifier trained on 96 samples.\n",
      "DecisionTreeClassifier trained on 961 samples.\n",
      "SVC trained on 9 samples.\n",
      "SVC trained on 96 samples.\n",
      "SVC trained on 961 samples.\n",
      "XGBClassifier trained on 9 samples.\n",
      "XGBClassifier trained on 96 samples.\n",
      "XGBClassifier trained on 961 samples.\n"
     ]
    }
   ],
   "source": [
    "results = {}\n",
    "for clf in [clf_A, clf_B, clf_C]:\n",
    "    clf_name = clf.__class__.__name__\n",
    "    results[clf_name] = {}\n",
    "    for i, samples in enumerate([samples_1, samples_10, samples_100]):\n",
    "        results[clf_name][i] = \\\n",
    "        train_predict(clf, samples, X_train, y_train, X_test, y_test)"
   ]
  },
  {
   "cell_type": "code",
   "execution_count": 40,
   "metadata": {
    "collapsed": false
   },
   "outputs": [
    {
     "data": {
      "text/plain": [
       "<matplotlib.axes._subplots.AxesSubplot at 0x1a174829d0>"
      ]
     },
     "execution_count": 40,
     "metadata": {},
     "output_type": "execute_result"
    },
    {
     "data": {
      "image/png": "[encoded data removed]",
      "text/plain": [
       "<matplotlib.figure.Figure at 0x1a17800ad0>"
      ]
     },
     "metadata": {},
     "output_type": "display_data"
    }
   ],
   "source": [
    "pd.DataFrame(results['DecisionTreeClassifier']).plot.bar()"
   ]
  },
  {
   "cell_type": "code",
   "execution_count": 41,
   "metadata": {
    "collapsed": false
   },
   "outputs": [
    {
     "data": {
      "text/plain": [
       "<matplotlib.axes._subplots.AxesSubplot at 0x1a17b71c10>"
      ]
     },
     "execution_count": 41,
     "metadata": {},
     "output_type": "execute_result"
    },
    {
     "data": {
      "image/png": "[encoded data removed]",
      "text/plain": [
       "<matplotlib.figure.Figure at 0x1a17ad4310>"
      ]
     },
     "metadata": {},
     "output_type": "display_data"
    }
   ],
   "source": [
    "pd.DataFrame(results['SVC']).plot.bar()"
   ]
  },
  {
   "cell_type": "code",
   "execution_count": 42,
   "metadata": {},
   "outputs": [
    {
     "data": {
      "text/plain": [
       "<matplotlib.axes._subplots.AxesSubplot at 0x1a17b71110>"
      ]
     },
     "execution_count": 42,
     "metadata": {},
     "output_type": "execute_result"
    },
    {
     "data": {
      "image/png": "[encoded data removed]",
      "text/plain": [
       "<matplotlib.figure.Figure at 0x1a17b9a490>"
      ]
     },
     "metadata": {},
     "output_type": "display_data"
    }
   ],
   "source": [
    "pd.DataFrame(results['XGBClassifier']).plot.bar()"
   ]
  },
  {
   "cell_type": "markdown",
   "metadata": {},
   "source": [
    "## Using Grid Search CV\n",
    "To determine the best estimators for the decision tree classifier"
   ]
  },
  {
   "cell_type": "code",
   "execution_count": 43,
   "metadata": {
    "collapsed": false
   },
   "outputs": [
    {
     "name": "stderr",
     "output_type": "stream",
     "text": [
      "/anaconda/envs/gl-env/lib/python2.7/site-packages/sklearn/grid_search.py:42: DeprecationWarning: This module was deprecated in version 0.18 in favor of the model_selection module into which all the refactored classes and functions are moved. This module will be removed in 0.20.\n",
      "  DeprecationWarning)\n"
     ]
    }
   ],
   "source": [
    "from sklearn.grid_search import GridSearchCV\n",
    "from sklearn.metrics import make_scorer\n",
    "\n",
    "params = { 'criterion':['gini', 'entropy'], 'max_depth':range(2, 20), 'random_state': [1] }\n",
    "\n",
    "def performance_metric(y_true, y_predict):\n",
    "    score = fbeta_score(y_true, y_predict, beta=0.5)\n",
    "    return score\n",
    "\n",
    "def model_grid(clf, parameters):\n",
    "    result = {}\n",
    "    \n",
    "    scorer = make_scorer(performance_metric)\n",
    "    grid_obj = GridSearchCV(clf, param_grid=parameters, scoring=scorer)\n",
    "    grid_fit = grid_obj.fit(X_train, y_train)\n",
    "\n",
    "    result['best_estimator_'] = grid_fit.best_estimator_\n",
    "    result['predictions'] = (clf.fit(X_train, y_train)).predict(X_test)\n",
    "    result['best_predictions'] = result['best_estimator_'].predict(X_test)\n",
    "    \n",
    "    return result"
   ]
  },
  {
   "cell_type": "code",
   "execution_count": 44,
   "metadata": {
    "collapsed": false
   },
   "outputs": [],
   "source": [
    "grid = model_grid(DecisionTreeClassifier(), params)"
   ]
  },
  {
   "cell_type": "code",
   "execution_count": 45,
   "metadata": {
    "collapsed": false
   },
   "outputs": [
    {
     "data": {
      "text/plain": [
       "DecisionTreeClassifier(class_weight=None, criterion='entropy', max_depth=5,\n",
       "            max_features=None, max_leaf_nodes=None,\n",
       "            min_impurity_decrease=0.0, min_impurity_split=None,\n",
       "            min_samples_leaf=1, min_samples_split=2,\n",
       "            min_weight_fraction_leaf=0.0, presort=False, random_state=1,\n",
       "            splitter='best')"
      ]
     },
     "execution_count": 45,
     "metadata": {},
     "output_type": "execute_result"
    }
   ],
   "source": [
    "grid['best_estimator_']"
   ]
  },
  {
   "cell_type": "markdown",
   "metadata": {},
   "source": [
    "## Model Evaluations "
   ]
  },
  {
   "cell_type": "code",
   "execution_count": 62,
   "metadata": {
    "collapsed": false
   },
   "outputs": [
    {
     "name": "stdout",
     "output_type": "stream",
     "text": [
      "F-beta score for decision tree classifier on train 0.848122162608\n",
      "Accuracy score for decision tree classifier on train 0.857440166493\n",
      "\n",
      "F-beta score for decision tree classifier on test 0.802568218299\n",
      "Accuracy score for decision tree classifier on test 0.788381742739\n"
     ]
    }
   ],
   "source": [
    "decision_clf = DecisionTreeClassifier(criterion='entropy', max_depth=5)\n",
    "decision_clf.fit(X_train, y_train)\n",
    "\n",
    "decision_clf_predictions_train = decision_clf.predict(X_train)\n",
    "decision_clf_predictions_test = decision_clf.predict(X_test)\n",
    "\n",
    "\n",
    "print \"F-beta score for decision tree classifier on train {}\".format(fbeta_score(decision_clf_predictions_train, y_train, beta=0.5))\n",
    "print \"Accuracy score for decision tree classifier on train {}\".format(accuracy_score(decision_clf_predictions_train, y_train))\n",
    "print \"\"\n",
    "print \"F-beta score for decision tree classifier on test {}\".format(fbeta_score(decision_clf_predictions_test, y_test, beta=0.5))\n",
    "print \"Accuracy score for decision tree classifier on test {}\".format(accuracy_score(decision_clf_predictions_test, y_test))"
   ]
  },
  {
   "cell_type": "code",
   "execution_count": 67,
   "metadata": {
    "collapsed": false
   },
   "outputs": [
    {
     "name": "stdout",
     "output_type": "stream",
     "text": [
      "F-beta score for  svc_classifier on test 0.841248303935\n",
      "Accuracy score for svc_classifier on test 0.514522821577\n",
      "\n",
      "F-beta score for svc_classifier on train 1.0\n",
      "Accuracy score for svc_classifier on train 1.0\n"
     ]
    }
   ],
   "source": [
    "svc_clf = SVC()\n",
    "svc_clf.fit(X_train, y_train)\n",
    "\n",
    "svc_clf_predictions_train = svc_clf.predict(X_train)\n",
    "svc_clf_predictions_test = svc_clf.predict(X_test)\n",
    "\n",
    "print \"F-beta score for  svc_classifier on test {}\".format(fbeta_score(svc_clf_predictions_test, y_test, beta=0.5))\n",
    "print \"Accuracy score for svc_classifier on test {}\".format(accuracy_score(svc_clf_predictions_test, y_test))\n",
    "print \"\"\n",
    "print \"F-beta score for svc_classifier on train {}\".format(fbeta_score(svc_clf_predictions_train, y_train, beta=0.5))\n",
    "print \"Accuracy score for svc_classifier on train {}\".format(accuracy_score(svc_clf_predictions_train, y_train))"
   ]
  },
  {
   "cell_type": "code",
   "execution_count": 68,
   "metadata": {},
   "outputs": [
    {
     "name": "stdout",
     "output_type": "stream",
     "text": [
      "F-beta score for  xgb_classifier on test 0.845181674566\n",
      "Accuracy score for xgb_classifier on test 0.804979253112\n",
      "\n",
      "F-beta score for xgb_classifier on train 0.927138763815\n",
      "Accuracy score for xgb_classifier on train 0.924037460978\n"
     ]
    }
   ],
   "source": [
    "xgb_clf = XGBClassifier()\n",
    "xgb_clf.fit(X_train, y_train)\n",
    "\n",
    "xgb_clf_predictions_train = xgb_clf.predict(X_train)\n",
    "xgb_clf_predictions_test = xgb_clf.predict(X_test)\n",
    "\n",
    "print \"F-beta score for  xgb_classifier on test {}\".format(fbeta_score(xgb_clf_predictions_test, y_test, beta=0.5))\n",
    "print \"Accuracy score for xgb_classifier on test {}\".format(accuracy_score(xgb_clf_predictions_test, y_test))\n",
    "print \"\"\n",
    "print \"F-beta score for xgb_classifier on train {}\".format(fbeta_score(xgb_clf_predictions_train, y_train, beta=0.5))\n",
    "print \"Accuracy score for xgb_classifier on train {}\".format(accuracy_score(xgb_clf_predictions_train, y_train))"
   ]
  }
 ],
 "metadata": {
  "kernelspec": {
   "display_name": "Python 3",
   "language": "python",
   "name": "python3"
  },
  "language_info": {
   "codemirror_mode": {
    "name": "ipython",
    "version": 3
   },
   "file_extension": ".py",
   "mimetype": "text/x-python",
   "name": "python",
   "nbconvert_exporter": "python",
   "pygments_lexer": "ipython3",
   "version": "3.6.1"
  }
 },
 "nbformat": 4,
 "nbformat_minor": 2
}
